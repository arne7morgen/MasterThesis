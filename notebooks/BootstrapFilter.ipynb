{
 "cells": [
  {
   "cell_type": "markdown",
   "metadata": {},
   "source": [
    "# Bootstrap Filter"
   ]
  },
  {
   "cell_type": "code",
   "execution_count": 2,
   "metadata": {
    "collapsed": true
   },
   "outputs": [],
   "source": [
    "import numpy as np\n",
    "import math\n",
    "import scipy.stats\n",
    "import seaborn\n",
    "import matplotlib.pyplot as plt\n",
    "import copy\n",
    "%matplotlib inline "
   ]
  },
  {
   "cell_type": "code",
   "execution_count": 43,
   "metadata": {
    "collapsed": false
   },
   "outputs": [],
   "source": [
    "class BootstrapFilter(object):\n",
    "    \n",
    "    def __init__(self, prior, tm, N=5000, noise = 0.1):\n",
    "        #what parameters?\n",
    "        # prior\n",
    "        #transition matrix\n",
    "        # number of particles\n",
    "        self.tm = np.cumsum(tm, axis=1)\n",
    "        \n",
    "        #init particles\n",
    "        #particles as a np array\n",
    "        #each particle has: state identifier, Mean, Var\n",
    "        state = prior[0]\n",
    "        n = N*state[-1]\n",
    "        name = np.full((n), 0)\n",
    "        mean = np.full((n), state[0])\\\n",
    "         + np.random.normal(scale=noise, size=n)\n",
    "        var = np.full((n), state[1])\\\n",
    "         + np.random.normal(scale=noise, size=n)\n",
    "        self.particles = np.stack((name,mean,var), axis=-1)\n",
    "        \n",
    "        for i, state in enumerate(prior[1:]):\n",
    "            n = N*state[-1]\n",
    "            name = np.full((n), i+1)\n",
    "            mean = np.full((n), state[0])\\\n",
    "             + np.random.normal(scale=noise, size=n)\n",
    "            var = np.full((n), state[1])\\\n",
    "             + np.random.normal(scale=noise, size=n)\n",
    "            p = np.stack((name,mean,var), axis=-1)\n",
    "            self.particles = np.concatenate((self.particles, p))\n",
    "        print self.particles.shape\n",
    "        \n",
    "        \n",
    "    def importantSampling(self, evidence):\n",
    "        \n",
    "        for p in self.particles:\n",
    "            #markov transition\n",
    "            pAfterTransition = self.markovTransition(p)\n",
    "            #weightParticle\n",
    "            unWeightp = self.weightParticles(p, evidence)\n",
    "        \n",
    "        #normalise weights\n",
    "        self.weights = normWeights(unWeights)\n",
    "        \n",
    "    def resample(self):\n",
    "        #dont know yet\n",
    "        pass\n",
    "        \n",
    "    def markovTransition(self, p):\n",
    "        #markov transition\n",
    "        r = np.random.rand()\n",
    "        newState = np.searchsorted(self.tm[p[0]], r)\n",
    "        p[0] = newState\n",
    "        #TODO update mean and var of particle to new state\n",
    "        pass\n",
    "    \n",
    "    def weightParticle(self, evidence):\n",
    "        # compute likelihood\n",
    "        pass"
   ]
  },
  {
   "cell_type": "code",
   "execution_count": 64,
   "metadata": {
    "collapsed": false
   },
   "outputs": [
    {
     "name": "stdout",
     "output_type": "stream",
     "text": [
      "[[0.8, 0.2], [0.1, 0.9]]\n",
      "[[ 0.8  1. ]\n",
      " [ 0.1  1. ]]\n"
     ]
    }
   ],
   "source": [
    "tm = [[0.8,0.2],[0.1,0.9]]\n",
    "print tm\n",
    "a = np.cumsum(tm, axis=1)\n",
    "print a\n"
   ]
  },
  {
   "cell_type": "code",
   "execution_count": 44,
   "metadata": {
    "collapsed": false
   },
   "outputs": [
    {
     "name": "stdout",
     "output_type": "stream",
     "text": [
      "(5000, 3)\n"
     ]
    },
    {
     "name": "stderr",
     "output_type": "stream",
     "text": [
      "/home/arne/anaconda2/lib/python2.7/site-packages/ipykernel/__main__.py:15: VisibleDeprecationWarning: using a non-integer number instead of an integer will result in an error in the future\n",
      "/home/arne/anaconda2/lib/python2.7/site-packages/ipykernel/__main__.py:16: VisibleDeprecationWarning: using a non-integer number instead of an integer will result in an error in the future\n",
      "/home/arne/anaconda2/lib/python2.7/site-packages/ipykernel/__main__.py:22: VisibleDeprecationWarning: using a non-integer number instead of an integer will result in an error in the future\n",
      "/home/arne/anaconda2/lib/python2.7/site-packages/ipykernel/__main__.py:23: VisibleDeprecationWarning: using a non-integer number instead of an integer will result in an error in the future\n"
     ]
    }
   ],
   "source": [
    "tm = [[0.9,0.1],[0.1,0.9]]\n",
    "prior = ((-1., 1.0, 0.5),(2.3, 1.0, 0.5)) # mean, var, belive\n",
    "bs = BootstrapFilter(prior, tm)"
   ]
  }
 ],
 "metadata": {
  "kernelspec": {
   "display_name": "Python 2",
   "language": "python",
   "name": "python2"
  },
  "language_info": {
   "codemirror_mode": {
    "name": "ipython",
    "version": 2
   },
   "file_extension": ".py",
   "mimetype": "text/x-python",
   "name": "python",
   "nbconvert_exporter": "python",
   "pygments_lexer": "ipython2",
   "version": "2.7.12"
  }
 },
 "nbformat": 4,
 "nbformat_minor": 1
}
