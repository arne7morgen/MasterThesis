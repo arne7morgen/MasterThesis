{
 "cells": [
  {
   "cell_type": "markdown",
   "metadata": {},
   "source": [
    "# Bootstrap Filter"
   ]
  },
  {
   "cell_type": "code",
   "execution_count": 1,
   "metadata": {
    "collapsed": true
   },
   "outputs": [],
   "source": [
    "import numpy as np\n",
    "import math\n",
    "import scipy.stats\n",
    "import seaborn\n",
    "import matplotlib.pyplot as plt\n",
    "import copy\n",
    "%matplotlib inline "
   ]
  },
  {
   "cell_type": "markdown",
   "metadata": {},
   "source": [
    "## multistate MAP particle filter\n",
    "Idea:\n",
    "* object with paricle filter as states\n",
    "* state with highest probability gets the data point\n",
    "* update just this state\n",
    "* this is just as the difital filter from the analytical algorithm\n",
    "\n",
    "* the assignement of the data point can maybe done bayes and not MAP later"
   ]
  },
  {
   "cell_type": "code",
   "execution_count": 23,
   "metadata": {
    "collapsed": false
   },
   "outputs": [
    {
     "name": "stdout",
     "output_type": "stream",
     "text": [
      "Hello I am A\n",
      "aaa\n"
     ]
    }
   ],
   "source": [
    "class A():\n",
    "    def __init__(self,s):\n",
    "        self.s = s\n",
    "        print 'Hello I am A'\n",
    "        \n",
    "class Factory():\n",
    "    def __init__(self,cls):\n",
    "        self.cls = cls\n",
    "    def getInstance(self):\n",
    "        return self.cls(\"aaa\")\n",
    "f = Factory(A)\n",
    "a = f.getInstance()\n",
    "print a.s"
   ]
  },
  {
   "cell_type": "code",
   "execution_count": 49,
   "metadata": {
    "collapsed": false
   },
   "outputs": [
    {
     "data": {
      "image/png": "[encoded data removed]",
      "text/plain": [
       "<matplotlib.figure.Figure at 0x7f9dd7c78490>"
      ]
     },
     "metadata": {},
     "output_type": "display_data"
    }
   ],
   "source": [
    "x1 = range(10,40)\n",
    "y1 = [i**2 for i in x1]\n",
    "x2 = range(40)\n",
    "y2 = [i**(1.8) for i in x2]\n",
    "\n",
    "plt.plot(x1,y1)\n",
    "plt.plot(x2,y2)\n",
    "plt.show()"
   ]
  },
  {
   "cell_type": "code",
   "execution_count": 78,
   "metadata": {
    "collapsed": false
   },
   "outputs": [],
   "source": [
    "def TestData(mean=[2,-4], var=[1,1], n=20, skips=3):\n",
    "    data = np.random.normal(mean[1],var[1],n)\n",
    "    for i in range(skips):       \n",
    "        data = np.append(data, np.random.normal(mean[i%2],var[i%2],n))\n",
    "    return data\n",
    "\n",
    "def runParticleFilter():\n",
    "    #create data\n",
    "    data = TestData()\n",
    "    particles = []\n",
    "    z = []\n",
    "    mean = []\n",
    "    var = []\n",
    "    bs = MultiStateMAPBootstrapFilter(BootstrapFilter)\n",
    "    for i, d in enumerate(data):\n",
    "        l, m, v= bs.update(d)        \n",
    "        z.append(list(l))\n",
    "        mean.append(list(m))\n",
    "        #var.append((list(v),i))\n",
    "    #add zeros to the front of z values\n",
    "            \n",
    "    #printParticleFilter(data, particles, mean)\n",
    "    #print z, mean0, mean1\n",
    "    return data, z, mean"
   ]
  },
  {
   "cell_type": "code",
   "execution_count": 83,
   "metadata": {
    "collapsed": true
   },
   "outputs": [],
   "source": [
    "def plotMultiStateParticle(data, z, m ):\n",
    "    \n",
    "    states = 0\n",
    "    zData = []\n",
    "    meanData = []\n",
    "    varData = []\n",
    "    for t,z_t in enumerate(z):\n",
    "        if len(z_t)>states:\n",
    "            states += 1\n",
    "            zData.append(([],range(t,len(data))))\n",
    "            meanData.append(([],range(t,len(data))))\n",
    "            varData.append(([],range(t,len(data))))\n",
    "        for i,z_t_i in enumerate(z_t):\n",
    "            zData[i][0].append(z_t_i)\n",
    "            #print m[t]\n",
    "            meanData[i][0].append(m[t][i])\n",
    "    #print zData[0]\n",
    "    fig, ax1 = plt.subplots()\n",
    "    ax1.set_ylim([-0.2,1.2])\n",
    "    for z in zData: \n",
    "        ax1.plot(z[1], z[0])\n",
    "    ax1.set_xlabel('iteration')\n",
    "    ax1.set_ylabel('probability', color='b')\n",
    "    ax1.tick_params('y', colors='b')\n",
    "    ax2 = ax1.twinx()\n",
    "    ax2.plot(range(0,len(data)), data, 'r.')\n",
    "    ax2.set_ylabel('data values', color='r')\n",
    "    ax2.tick_params('y', colors='r')\n",
    "    plt.title(\"Probability for the two states at each datum\")\n",
    "    plt.show()\n",
    "    \n",
    "    for m in meanData:\n",
    "        plt.plot(m[1], m[0])\n",
    "    plt.scatter(range(0,len(data)),data, color='red')\n",
    "    plt.title('mean of the two states')\n",
    "    plt.show()"
   ]
  },
  {
   "cell_type": "code",
   "execution_count": 94,
   "metadata": {
    "collapsed": false
   },
   "outputs": [],
   "source": [
    "class MultiStateMAPBootstrapFilter(object):\n",
    "    beta = 0.001\n",
    "    def __init__(self, cls, states=0):\n",
    "        self.cls = cls\n",
    "        self.bsf = []\n",
    "        self.data = []\n",
    "        for s in range(states):\n",
    "            p = np.random.normal(np.random.uniform(low=-5, high=5), size=200, var=4)\n",
    "            self.bsf.append(self.cls(particles=p))\n",
    "        \n",
    "    def update(self,_x):\n",
    "        if len(self.bsf)<1:\n",
    "            self.addState(_x)\n",
    "        likelihood = []\n",
    "        for f in self.bsf:\n",
    "            l = scipy.stats.norm(f.mean, f.var).pdf(_x)\n",
    "            likelihood.append(l[0])\n",
    "\n",
    "        indexMaxL = likelihood.index(max(likelihood))\n",
    "        if(max(likelihood)<self.beta):#this could work better with outlier detection\n",
    "            indexMaxL = self.addState(_x)\n",
    "        self.bsf[indexMaxL].importantSampling(_x)\n",
    "        mean = []\n",
    "        var = []\n",
    "        for f in self.bsf:\n",
    "            mean.append(f.mean[-1])\n",
    "            var.append(f.var[-1])\n",
    "        return [l/max(likelihood) for l in likelihood], mean, var\n",
    "    \n",
    "    def addState(self, _x):\n",
    "        print 'adding a new state at: '+str(_x)\n",
    "        p = np.random.normal(_x, size=200)\n",
    "        self.bsf.append(self.cls(particles=p))\n",
    "        return len(self.bsf)-1"
   ]
  },
  {
   "cell_type": "code",
   "execution_count": 95,
   "metadata": {
    "collapsed": false
   },
   "outputs": [
    {
     "name": "stdout",
     "output_type": "stream",
     "text": [
      "adding a new state at: -3.33628747808\n",
      "resampling\n",
      "resampling\n",
      "resampling\n",
      "adding a new state at: 1.16696919481\n",
      "resampling\n",
      "resampling\n",
      "adding a new state at: 5.08680125483\n"
     ]
    }
   ],
   "source": [
    "d, z, m = runParticleFilter()"
   ]
  },
  {
   "cell_type": "code",
   "execution_count": 96,
   "metadata": {
    "collapsed": false,
    "scrolled": false
   },
   "outputs": [
    {
     "data": {
      "image/png": "[encoded data removed]",
      "text/plain": [
       "<matplotlib.figure.Figure at 0x7f9dd5ac7510>"
      ]
     },
     "metadata": {},
     "output_type": "display_data"
    },
    {
     "data": {
      "image/png": "[encoded data removed]",
      "text/plain": [
       "<matplotlib.figure.Figure at 0x7f9dd5aff650>"
      ]
     },
     "metadata": {},
     "output_type": "display_data"
    }
   ],
   "source": [
    "plotMultiStateParticle(d,z,m)"
   ]
  },
  {
   "cell_type": "markdown",
   "metadata": {},
   "source": [
    "## Particle Filter\n",
    "The particles are like datapoints"
   ]
  },
  {
   "cell_type": "code",
   "execution_count": 12,
   "metadata": {
    "collapsed": false
   },
   "outputs": [],
   "source": [
    "class BootstrapFilter(object):\n",
    "    \n",
    "    def __init__(self, d=1, likelihood=(0,1), prior=(-5,5), N=200, \\\n",
    "                 noise = 0.1, particles=None):\n",
    "        self.dimension = d\n",
    "        self.prior = prior\n",
    "        self.noise = noise\n",
    "        self.likelihood = likelihood\n",
    "        \n",
    "        if particles is not None:\n",
    "            self.particles = particles\n",
    "            self.weights = np.ones(len(self.particles))\n",
    "        else:           \n",
    "            #particles are drawn form a uniform square\n",
    "            self.particles = np.random.uniform(low=prior[0], high=prior[1],\\\n",
    "                                               size=(N,d))\n",
    "            self.weights = np.ones(N)\n",
    "        self.mean = [np.mean(self.particles)]\n",
    "        self.var = [np.var(self.particles)]\n",
    "        \n",
    "    def importantSampling(self, datum, a=1):\n",
    "        for i, p in enumerate(self.particles):\n",
    "            self.particles[i] = self.markovTransition(p)\n",
    "            #weightParticle\n",
    "            self.weights[i] = scipy.stats.norm(datum, \\\n",
    "                    self.likelihood[1]).pdf(self.particles[i]) * a      \n",
    "        #normalise weights\n",
    "        weightSum = np.sum(self.weights)\n",
    "        self.weights = self.weights/weightSum\n",
    "        #mean = np.average(self.particles, weights=self.weights, axis=0)[0]       \n",
    "        if 1. / np.sum(np.square(self.weights)) < len(self.weights) / 2:            \n",
    "            self.multinomialResampling()\n",
    "            print 'resampling'\n",
    "        else:\n",
    "            #print 'no resampling'\n",
    "            pass\n",
    "        mean = np.mean(self.particles)\n",
    "        self.mean.append(mean)\n",
    "        self.var.append(np.var(self.particles)) \n",
    "        return self.particles, self.weights\n",
    "        \n",
    "    def markovTransition(self, p):\n",
    "        return p #+ np.random.normal(0,self.noise)\n",
    "        \n",
    "    def multinomialResampling(self):\n",
    "        N = len(self.weights)\n",
    "        cumsum = np.cumsum(self.weights)\n",
    "        cumsum[-1] = 1\n",
    "        uniform = np.random.uniform(size=N)\n",
    "        indexes = np.searchsorted(cumsum, uniform)\n",
    "        # resample according to indexes\n",
    "        self.particles = self.particles[indexes]\n",
    "        self.weights.fill(1.0 / N)\n",
    "        \n",
    "        "
   ]
  },
  {
   "cell_type": "code",
   "execution_count": 3,
   "metadata": {
    "collapsed": false
   },
   "outputs": [],
   "source": [
    "def printParticleFilter(data, particles, mean, weights=None):\n",
    "    alpha = 0.02\n",
    "    for x, y in zip(range(len(data)), particles):\n",
    "        plt.scatter([x] * len(y), y, color='g', alpha=alpha)\n",
    "    plt.plot(mean, color='g')\n",
    "    plt.scatter(range(0,len(data)),data, color='red')\n",
    "    plt.title('mean of the particle filter with particles')\n",
    "    plt.show()\n",
    "    \n",
    "    \n",
    "    \n",
    "    var = np.array([np.var(x) for x in particles])\n",
    "    mean = np.array(mean)\n",
    "    print type(var), type(mean)\n",
    "    upperBound = mean + var\n",
    "    lowerBound = mean - var\n",
    "    #plt.plot(upperBound, color='g', alpha=0.7)\n",
    "    #plt.plot(lowerBound, color='g', alpha=0.7)\n",
    "    plt.fill_between(range(len(data)), upperBound, lowerBound, color='g', alpha=0.3)\n",
    "    plt.plot(mean, color='g')\n",
    "    plt.scatter(range(len(data)),data, color='red')\n",
    "    plt.title('mean of the particle filter with bounds')\n",
    "    plt.show()"
   ]
  },
  {
   "cell_type": "code",
   "execution_count": 4,
   "metadata": {
    "collapsed": false
   },
   "outputs": [],
   "source": [
    "def TestData(mean=[4,-4], var=[1,1], n=20, skips=3):\n",
    "    data = np.random.normal(mean[1],var[1],n)\n",
    "    for i in range(skips):       \n",
    "        data = np.append(data, np.random.normal(mean[i%2],var[i%2],n))\n",
    "    return data\n",
    "\n",
    "def runParticleFilter():\n",
    "    #create data\n",
    "    data = TestData()\n",
    "    particles = []\n",
    "    weights = []\n",
    "    #feed data to particle Filter\n",
    "    bs = BootstrapFilter(1,N=2000)\n",
    "    for i, d in enumerate(data):\n",
    "        p, w = bs.importantSampling(d)\n",
    "        particles.append(p.copy())\n",
    "        weights.append(w.copy())\n",
    "    mean = bs.mean\n",
    "    printParticleFilter(data, particles, mean)\n",
    "    return data, particles, mean"
   ]
  },
  {
   "cell_type": "code",
   "execution_count": null,
   "metadata": {
    "collapsed": false
   },
   "outputs": [
    {
     "name": "stdout",
     "output_type": "stream",
     "text": [
      "resampling\n",
      "resampling\n",
      "resampling\n",
      "resampling\n",
      "resampling\n",
      "resampling\n",
      "resampling\n"
     ]
    }
   ],
   "source": [
    "d,p,m = runParticleFilter()"
   ]
  },
  {
   "cell_type": "markdown",
   "metadata": {},
   "source": [
    "## Multi Particle Filter for multi states"
   ]
  },
  {
   "cell_type": "code",
   "execution_count": 196,
   "metadata": {
    "collapsed": false
   },
   "outputs": [
    {
     "data": {
      "text/plain": [
       "numpy.float64"
      ]
     },
     "execution_count": 196,
     "metadata": {},
     "output_type": "execute_result"
    }
   ],
   "source": [
    "type(scipy.stats.norm(3, 2).pdf(5))"
   ]
  },
  {
   "cell_type": "code",
   "execution_count": 250,
   "metadata": {
    "collapsed": false
   },
   "outputs": [],
   "source": [
    "class MultiBootstrapFilter(object):\n",
    "    \n",
    "    def __init__(self, states, N=500):\n",
    "        self.bsf = []\n",
    "        self.data = []\n",
    "        for i in range(states):\n",
    "            p = np.random.normal(np.random.uniform(low=-5, high=5), size=500)\n",
    "            self.bsf.append(BootstrapFilter(1, particles=p))     \n",
    "        \n",
    "    def update(self, _x):\n",
    "        stepData = []\n",
    "        assigment = np.zeros(len(self.bsf))\n",
    "        print _x\n",
    "        for i,f in enumerate(self.bsf):\n",
    "            assigment[i] = scipy.stats.norm(f.mean[-1], f.var[-1]).pdf(_x)\n",
    "            print 'mean', f.mean[-1]\n",
    "        assigment = assigment / np.sum(assigment)\n",
    "        for f,a in zip(self.bsf, assigment):\n",
    "            print 'assigment', a\n",
    "            stepData.append(f.importantSampling(_x, a=a))\n",
    "        print \"\"\n",
    "        return stepData"
   ]
  },
  {
   "cell_type": "code",
   "execution_count": 258,
   "metadata": {
    "collapsed": true
   },
   "outputs": [],
   "source": [
    "def runMBSF():\n",
    "    #create data\n",
    "    data = TestData(n=5, skips=1)\n",
    "    particles0 = []\n",
    "    particles1 = []\n",
    "    mbsf = MultiBootstrapFilter(2)    \n",
    "    #feed data to particle Filter\n",
    "    for d in data:\n",
    "        stepData = mbsf.update(d)\n",
    "        \n",
    "        particles0.append(stepData[0][0].copy())\n",
    "        particles1.append(stepData[1][0].copy())\n",
    "    mean0 = mbsf.bsf[0].mean\n",
    "    mean1 = mbsf.bsf[1].mean\n",
    "    #printParticleFilter(data, particles, mean)\n",
    "    return data, particles0, particles1, mean0, mean1"
   ]
  },
  {
   "cell_type": "markdown",
   "metadata": {},
   "source": [
    "resampling seems not to work? maybe nuerical issues. maybe the wrong filter resamples?\n",
    "\n",
    "There are two problems:\n",
    "* the assigment is to narrow. This means that the values are to strong, too much ones and zeros. Probably the variance after resampling is too low.\n",
    "* The assigment does not do the thing i want right now. I use it to weight all particle in a filter. But all particles are weighted the same. So the endresult is canceled out by normalising. Somehow i need to weight all particles at once. This way the assigment would do want i wanted, maybe."
   ]
  },
  {
   "cell_type": "code",
   "execution_count": 259,
   "metadata": {
    "collapsed": false,
    "scrolled": false
   },
   "outputs": [
    {
     "name": "stdout",
     "output_type": "stream",
     "text": [
      "-4.68127874679\n",
      "mean 4.67979226655\n",
      "mean 0.359379457967\n",
      "assigment 8.72721375566e-14\n",
      "resampling\n",
      "assigment 1.0\n",
      "resampling\n",
      "\n",
      "-3.60933724285\n",
      "mean 1.48809858121\n",
      "mean -2.31356252478\n",
      "assigment 0.0\n"
     ]
    },
    {
     "name": "stderr",
     "output_type": "stream",
     "text": [
      "/home/arne/anaconda2/lib/python2.7/site-packages/ipykernel/__main__.py:26: RuntimeWarning: invalid value encountered in divide\n"
     ]
    },
    {
     "name": "stdout",
     "output_type": "stream",
     "text": [
      "assigment 1.0\n",
      "\n",
      "-4.76488259935\n",
      "mean 1.48759857584\n",
      "mean -2.31043523308\n",
      "assigment 0.0\n",
      "assigment 1.0\n",
      "\n",
      "-4.36757802537\n",
      "mean 1.48650050199\n",
      "mean -2.32095910221\n",
      "assigment 0.0\n",
      "assigment 1.0\n",
      "\n",
      "-3.67447101092\n",
      "mean 1.48634596141\n",
      "mean -2.30775608653\n",
      "assigment 0.0\n",
      "assigment 1.0\n",
      "\n",
      "4.87183558339\n",
      "mean 1.48537862319\n",
      "mean -2.30895447113\n",
      "assigment 0.0\n",
      "assigment 1.0\n",
      "resampling\n",
      "\n",
      "2.22789934294\n",
      "mean 1.49012802112\n",
      "mean -0.585471935707\n",
      "assigment 1.0\n",
      "assigment 0.0\n",
      "\n",
      "3.90521044468\n",
      "mean 1.48550870041\n",
      "mean -0.580579326033\n",
      "assigment 1.0\n",
      "assigment 0.0\n",
      "\n",
      "4.78780184408\n",
      "mean 1.48456502437\n",
      "mean -0.574413186162\n",
      "assigment 1.0\n",
      "resampling\n",
      "assigment 0.0\n",
      "\n",
      "4.78855403903\n",
      "mean 1.93767540075\n",
      "mean -0.572721419451\n",
      "assigment 1.0\n",
      "resampling\n",
      "assigment 0.0\n",
      "\n"
     ]
    }
   ],
   "source": [
    "d,p0,p1,m0,m1 = runMBSF()"
   ]
  },
  {
   "cell_type": "code",
   "execution_count": 204,
   "metadata": {
    "collapsed": true
   },
   "outputs": [],
   "source": [
    "def plotMBFS2(d,p0,p1,m0,m1):\n",
    "    plt.scatter(range(len(d)), d, color='r')\n",
    "    plt.plot(m0)\n",
    "    plt.plot(m1)"
   ]
  },
  {
   "cell_type": "code",
   "execution_count": 260,
   "metadata": {
    "collapsed": false
   },
   "outputs": [
    {
     "data": {
      "image/png": "[encoded data removed]",
      "text/plain": [
       "<matplotlib.figure.Figure at 0x7f6ff553c850>"
      ]
     },
     "metadata": {},
     "output_type": "display_data"
    }
   ],
   "source": [
    "plotMBFS2(d,p0,p1,m0,m1)"
   ]
  },
  {
   "cell_type": "markdown",
   "metadata": {},
   "source": [
    "## Particle Filter with discrete state and transition model"
   ]
  },
  {
   "cell_type": "code",
   "execution_count": 43,
   "metadata": {
    "collapsed": false
   },
   "outputs": [],
   "source": [
    "class BootstrapFilterDiscreteTransitionModel(object):\n",
    "    \n",
    "    def __init__(self, prior, tm, N=5000, noise = 0.1):\n",
    "\n",
    "        self.tm = np.cumsum(tm, axis=1)\n",
    "        \n",
    "        #init particles\n",
    "        #each particle has: state identifier, Mean, Var\n",
    "        state = prior[0]\n",
    "        n = N*state[-1]\n",
    "        name = np.full((n), 0)\n",
    "        mean = np.full((n), state[0])\\\n",
    "         + np.random.normal(scale=noise, size=n)\n",
    "        var = np.full((n), state[1])\\\n",
    "         + np.random.normal(scale=noise, size=n)\n",
    "        self.particles = np.stack((name,mean,var), axis=-1)\n",
    "        \n",
    "        for i, state in enumerate(prior[1:]):\n",
    "            n = N*state[-1]\n",
    "            name = np.full((n), i+1)\n",
    "            mean = np.full((n), state[0])\\\n",
    "             + np.random.normal(scale=noise, size=n)\n",
    "            var = np.full((n), state[1])\\\n",
    "             + np.random.normal(scale=noise, size=n)\n",
    "            p = np.stack((name,mean,var), axis=-1)\n",
    "            self.particles = np.concatenate((self.particles, p))\n",
    "        print self.particles.shape\n",
    "        \n",
    "        \n",
    "    def importantSampling(self, datum):\n",
    "        \n",
    "        for p in self.particles:\n",
    "            self.markovTransition(p)\n",
    "            #weightParticle\n",
    "            #this needs to be saved in an array\n",
    "            unWeightP = scipy.stats.norm(p[1], p[2]).pdf(datum)\n",
    "        \n",
    "        #normalise weights\n",
    "        self.weights = normWeights(unWeights)\n",
    "        \n",
    "    def resample(self):\n",
    "        #dont know yet\n",
    "        pass\n",
    "        \n",
    "    def markovTransition(self, p):\n",
    "        r = np.random.rand()\n",
    "        newState = np.searchsorted(self.tm[p[0]], r)\n",
    "        p[0] = newState\n",
    "        #TODO update mean and var of particle to new state\n",
    "        pass\n",
    "        "
   ]
  }
 ],
 "metadata": {
  "kernelspec": {
   "display_name": "Python 2",
   "language": "python",
   "name": "python2"
  },
  "language_info": {
   "codemirror_mode": {
    "name": "ipython",
    "version": 2
   },
   "file_extension": ".py",
   "mimetype": "text/x-python",
   "name": "python",
   "nbconvert_exporter": "python",
   "pygments_lexer": "ipython2",
   "version": "2.7.12"
  }
 },
 "nbformat": 4,
 "nbformat_minor": 1
}
